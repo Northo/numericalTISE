{
 "cells": [
  {
   "cell_type": "markdown",
   "metadata": {},
   "source": [
    "# Endimensjonal kvantemekanisk brønnmodell for atomer, molekyler og krystaller\n",
    "\n",
    "I denne notatboken skal vi undersøke en enkel kvantemekanisk modell for atomer, molekyler og krystaller, der potensialet omkring enkeltatomer modelleres som brønnpotensialer.\n",
    "\n",
    "Omkring en atomkjerne vil det være et potensiale som elektroner med masse $m_e$ kan befinne seg i.\n",
    "I vår enkle, endimensjonale modell vil vi beskrive dette potensialet som et brønnpotensial\n",
    "\n",
    "$$V(x) = \\begin{cases} -V_0 & |x| \\leq w / 2 \\\\ 0 & \\text{ellers} \\\\ \\end{cases}$$\n",
    "\n",
    "omkring et atom med bredde $w$ sentrert i origo.\n",
    "For å beskrive molekyler og atomer, konstruerer vi nye potensialer bestående av flere slike brønnpotensialer, som hvert representerer et atom i molekylet eller krystallen. Disse plasseres ved siden av hverandre, separert med områder med null potensiale og bredde $b$, som modellerer bindinger og bindingslengder i molekyl-/krystallstrukturen.\n",
    "\n",
    "Vi neglisjerer vekselvirkning mellom elektronene rundt atomkjernen, slik at hvert elektron befinner seg i en stasjonær tilstand $\\Psi(x, t) = \\psi(x) e^{i E t / \\hbar}$ med tilhørende energi $E$, der energiegenfunksjonen $\\psi(x)$ løser den tidsuavhengige Schrödingerlikningen\n",
    "\n",
    "$$-\\frac{\\hbar^2}{2 m_e} \\psi''(x) + V(x) \\psi(x) = E \\psi(x)$$\n",
    "\n",
    "der $V(x)$ er et potensial og $\\hbar$ er Plancks konstant.\n",
    "\n",
    "Elektronet er et fermion som kan ha to spinnverdier, og i henhold til Paulis eksklusjonsprinsipp vil da maksimalt to elektroner okkupere hver stasjonære tilstand.\n",
    "TODO: feil å bruke \"tilstand her\"\n",
    "\n",
    "Schrödingerlikningen har sjelden analytiske løsninger.\n",
    "Derfor vil vi her løse den numerisk ved å dele opp rommet i $N + 2$ punkter $x_0 = 0, x_1, \\ldots, x_N, x_{N+1} = L$ med avstand $\\Delta x = L / (N + 1)$ mellom hvert punkt.\n",
    "Hvert punkt tilordnes potensialet $V_n = V(x_n)$ og verdien $\\psi_n = \\psi(x_n)$ for energiegenfunksjonen.\n",
    "For å avgrense problemet, innfører vi randbetingelsene $V_0 = V_{N+1} = \\infty$, slik at $\\psi_0 = \\psi_{N+1} = 0$.\n",
    "I tillegg tilnærmer vi de deriverte av energiegenfunksjonen med\n",
    "$$\\psi_n' = \\psi'(x_n) = \\frac{\\psi_{n+1} - \\psi_n}{\\Delta x} \\qquad \\text{og} \\qquad \\psi_n'' = \\psi''(x_n) = \\frac{\\psi_n' - \\psi_{n-1}'}{\\Delta x} = \\frac{\\psi_{n+1} - 2 \\psi_n + \\psi_{n-1}}{{\\Delta x}^2}$$\n",
    "\n",
    "Problemet er dermed redusert til å finne verdier $\\psi_1, \\ldots, \\psi_N$ for energiegenfunksjonen og tilhørende energier $E$ som oppfyller\n",
    "$$-\\frac{\\hbar^2}{2 m_e} \\frac{\\psi_{n+1} - 2 \\psi_n + \\psi_{n-1}}{{\\Delta x}^2} + V_n \\psi_n = E \\psi_n$$\n",
    "Dette er ekvivalent med å finne egenvektorer $\\boldsymbol{\\psi} = [\\psi_1, \\ldots, \\psi_N]^T$ og tilhørende egenverdier $E$ som oppfyller matriselikningen\n",
    "$$H \\boldsymbol{\\psi} = E \\boldsymbol{\\psi}$$\n",
    "der matrisen $H$ er en symmetrisk matrise med $H_{n, n} = \\hbar^2 / m {\\Delta x}^2 + V_n$ langs diagonalen, $H_{n, n \\pm 1} = \\hbar^2 / 2 m {\\Delta x}^2$ over og under diagonalen og $0$ alle andre steder.\n",
    "Dette er et velkjent problem fra lineær algebra med mange effektive programvareimplementasjoner, og er utgangspunktet for vår numeriske løsningsmetode.\n",
    "\n",
    "Vi benytter her Python og numerikkbiblioteket `numpy` for beregninger, i samspill med plottebiblioteket `matplotlib` for å visualisere beregningene."
   ]
  },
  {
   "cell_type": "code",
   "execution_count": null,
   "metadata": {
    "collapsed": true
   },
   "outputs": [],
   "source": [
    "# For some reason Jupyter does not like to have %matplotlib inline in same cell as rcParams\n",
    "%matplotlib inline"
   ]
  },
  {
   "cell_type": "code",
   "execution_count": null,
   "metadata": {
    "collapsed": true
   },
   "outputs": [],
   "source": [
    "import numpy as np\n",
    "import matplotlib.pyplot as plt\n",
    "\n",
    "## Setup plotting parameters\n",
    "newparams = {'axes.labelsize': 15,\n",
    "             'axes.linewidth': 1,\n",
    "             'lines.linewidth': 1.5, \n",
    "             'figure.figsize': (16, 8),\n",
    "             'ytick.labelsize': 15,\n",
    "             'xtick.labelsize': 15,\n",
    "             'ytick.major.pad': 5,\n",
    "             'xtick.major.pad': 5,\n",
    "             'legend.fontsize': 15,\n",
    "             'legend.frameon': True, \n",
    "             'legend.handlelength': 1.5,\n",
    "             'axes.titlesize': 20,\n",
    "             'mathtext.fontset': 'stix',\n",
    "             'font.family': 'STIXGeneral'}\n",
    "plt.rcParams.update(newparams)"
   ]
  },
  {
   "cell_type": "markdown",
   "metadata": {},
   "source": [
    "Nedenfor defineres enkelte fysiske konstanter som er sentrale i beregningene: Den reduserte planckkonstanten $\\hbar = h/2\\pi$, elektronmassen $m_e$. Plancks konstant er her benevnt i enhet nanojoule. Dette gjøres slik at nanometer kan benyttes som lengdeenhet. Dette gjøres for at tallene som benyttes skal være av en størrelsesorden nærmere $1$. Av samme årsak vil elektronvolt benyttes som energienhet, og derfor introduseres også en proporsjonalitetskonstant for omregning mellom elektronvolt og joule."
   ]
  },
  {
   "cell_type": "code",
   "execution_count": null,
   "metadata": {
    "collapsed": true,
    "scrolled": false
   },
   "outputs": [],
   "source": [
    "from scipy.constants import eV, m_e as m, hbar\n",
    "hbar = hbar * 1e9 # Convert from Js to nJs"
   ]
  },
  {
   "cell_type": "markdown",
   "metadata": {},
   "source": [
    "## Numerisk løsning av uendelig potensialbrønn\n",
    "\n",
    "Før vi går i gang med å modellere atomer, molekyler og krystaller, vil vi teste vår numeriske løsningsmetode på det velkjente eksemplet med en partikkel i en uendelig dyp potensialbrønn.\n",
    "\n",
    "Vi undersøker her et elektron med masse $m_e$ i en boks med lengde $L = 10 \\, nm$ oppdelt i henhold til den innledende beskrivelsen med $N = 1000$.\n",
    "For å finne egenfunksjoner og egenverdier til matrisen $H$ som løser den diskretiserte schrödingerlikningen, benytter vi `numpy`s `eigh`-funksjon.\n",
    "Resultatene fremstilles grafisk ved at potensialet, energiene og energiegenfunksjonene plottes i én figur.\n",
    "Egenfunksjonenes form er kun av kvalitativ interesse, og plottes derfor rundt deres respektive energier med en vilkårlig skalering."
   ]
  },
  {
   "cell_type": "code",
   "execution_count": null,
   "metadata": {
    "collapsed": false,
    "scrolled": false
   },
   "outputs": [],
   "source": [
    "def get_stationary_states(dx, V):\n",
    "    factor = hbar**2 / (m * dx**2) / eV\n",
    "    diag = factor + V\n",
    "    second_diag = -factor/2 * np.ones(diag.shape[0] - 1)\n",
    "    H = np.diag(diag) + np.diag(second_diag, k=1) + np.diag(second_diag, k=-1)\n",
    "    \n",
    "    eigvals, eigvecs = np.linalg.eigh(H)\n",
    "    energies, waves = eigvals, eigvecs.T\n",
    "    return energies, waves\n",
    "\n",
    "def plot_potential_stationary_states(x, V, energies, waves, label_energies = True, clip_y_axis = False, num_labels = 3, **kwargs):\n",
    "    plt.title(kwargs.pop(\"title\", \"\"))\n",
    "    plt.xlabel(\"$x \\,\\, (nm)$\")\n",
    "    plt.ylabel(\"$V(x), E_n \\,\\, (eV)$\")\n",
    "    \n",
    "    plt.plot(x, V, color=\"grey\", linestyle=\"solid\", linewidth=3, label=\"$V(x)$\")\n",
    "    \n",
    "    wave_scale_factor = kwargs.pop(\"wave_scale_factor\", 10) # amplitudes of waves are unimportant\n",
    "    for n, (energy, wave) in enumerate(zip(energies, waves)):\n",
    "        color = \"C%d\" % (n % 10)\n",
    "        label = \"$E_{%d} = %+.4f \\,\\, eV, \\psi_{%d}$\" % (n, energy, n) if label_energies and n <= num_labels else None\n",
    "        plt.plot((0, x[-1]), (energy, energy), color=color, linestyle=\"dashed\", label=label)\n",
    "        plt.plot(x, energy + wave * wave_scale_factor, color=color, linestyle=\"solid\")\n",
    "    if clip_y_axis:\n",
    "        # Sets upper y limit to biggest wave\n",
    "        y_max = np.amax( wave_scale_factor * waves + energies[:, np.newaxis] )   \n",
    "        axes = plt.gca()\n",
    "        axes.set_ylim([None, y_max + 0.1 * np.abs(y_max)])\n",
    "    \n",
    "    plt.legend(loc=\"upper left\")\n",
    "\n",
    "N = 1000\n",
    "L = 10\n",
    "dx = L / (N + 1)\n",
    "x = np.linspace(dx, N * dx, N)\n",
    "V = np.zeros(N)\n",
    "n = 6\n",
    "energies, waves = get_stationary_states(dx, V)\n",
    "\n",
    "print(\"Greatest deviation from orthonormality:\", np.max(np.abs(waves @ waves.T - np.eye(N))))\n",
    "\n",
    "title = \"Tilstander for uendelig potensialbrønn med L = %.2f nm (beregnet numerisk)\" % L\n",
    "plot_potential_stationary_states(x, V, energies[:n], waves[:n], title=title)"
   ]
  },
  {
   "cell_type": "markdown",
   "metadata": {},
   "source": [
    "TODO: referanse for analytiske verdier\n",
    "\n",
    "Vi sammenligner så resultatene med analytiske verdier\n",
    "$$E_n = \\frac{n^2 \\hbar^2 \\pi^2}{2mL^2} \\quad \\text{og} \\quad \\psi_n = \\sqrt{\\frac{2}{L}} \\sin{\\frac{n \\pi x}{L}} \\quad \\text{for} \\quad n = 1,2,\\dots$$\n",
    "for energiene og egenfunksjonene.\n"
   ]
  },
  {
   "cell_type": "code",
   "execution_count": null,
   "metadata": {
    "collapsed": false
   },
   "outputs": [],
   "source": [
    "energies, waves = [], []\n",
    "for i in range(1, n + 1):\n",
    "    energy = hbar**2 * i**2 * np.pi**2 / (L**2 * 2 * m * eV) \n",
    "    wave = np.sqrt(2 / L) * np.sin(i * np.pi * x / L) * np.sqrt(dx)\n",
    "    energies.append(energy)\n",
    "    waves.append(wave)\n",
    "    \n",
    "title = \"Tilstander for uendelig potensialbrønn med L = %.2f nm (analytiske verdier)\" % L\n",
    "plot_potential_stationary_states(x, V, energies, waves, title=title)"
   ]
  },
  {
   "cell_type": "markdown",
   "metadata": {},
   "source": [
    "TODO: skalerte med sqrt(dx)\n",
    "\n",
    "Vi ser at den numeriske løsningen og de analytiske uttrykkene produserer like energier og energiegenfunksjoner som kun skiller seg med et ubetydelig fortegn.\n",
    "\n",
    "Det er kjent at de stasjonære tilstandene som løser schrödingerlikningen er ortogonale og danner et fullstendig sett, slik at alle bølgefunksjoner kan uttrykkes som en lineær kombinasjon av disse.\n",
    "I denne diskretiserte modellen, forventer vi derfor at egenvektorene $\\boldsymbol{\\psi}$ er ortogonale, og i dette tilfellet også ortonormerte.\n",
    "Dette ser vi stemmer med et neglisjerbart maksimalt avvik mellom prikkproduktet av egenvektormatrisen og dens transponerte og identitetsmatrisen."
   ]
  },
  {
   "cell_type": "markdown",
   "metadata": {},
   "source": [
    "## Modellering av enkeltatom\n",
    "\n",
    "Herfra kommer vi kun til å modellere situasjoner der potensialet er sammensatt av ett eller flere brønnpotensialer med bredde $w$ og dybde $V_0$ adskilt med barriereområder med null potensiale og bredde $b$.\n",
    "Derfor generaliserer vi allerede her ved å innføre en funksjon som genererer et sammensatt brønnpotensiale gitt antall brønner $N_w$, antall punkter $n_w$ og $n_b$ i hver brønn og barriere og brønndybden $V_0$.\n",
    "\n",
    "Potensialet kan alternativt genereres på en mer intuitiv måte gitt mer naturlige størrelser som $N_w$, $N$, $w$ og $b$.\n",
    "Svakheten med en slik metode er at antall punkter i brønnene og barrierene vil variere.\n",
    "Denne feilen blir betydningsfull når antall brønner vokser og brønnene og barrierene blir små og inneholder få punkter.\n",
    "Dette er årsaken til at vi heller benytter et konstant antall punkter i hver brønn og barriere.\n",
    "\n",
    "For å gjøre ting enkelt herfra, har vi også innført en funksjon som enkelt lar oss utforske energier og egenfunksjoner gitt $N_w$, $n_b$, $n_w$, $w$ og $V_0$.\n",
    "Denne beregner $b = (n_b / n_w) w$ og presenterer energiene og egenfunksjonene grafisk.\n",
    "\n",
    "Vi modellerer enkeltatomet med én brønn med bredde $w = 0.5 \\, nm$, som tilsvarer et atoms diameter innenfor en størrelsesorden.\n",
    "Med $V_0 = 10 \\, eV$, får vi til sammen tre bundne energinivåer."
   ]
  },
  {
   "cell_type": "code",
   "execution_count": null,
   "metadata": {
    "collapsed": false
   },
   "outputs": [],
   "source": [
    "def V_crystal(N_w, n_w, n_b, V0):\n",
    "    well = np.append(-V0*np.ones(n_w), np.zeros(n_b)) # One well plus barrier\n",
    "    wells = np.tile(well, N_w)\n",
    "    potential = np.append(np.zeros(10*n_w), wells) # Pad 10w before wells\n",
    "    potential = np.append(potential, np.zeros(10*n_w - n_b)) # Pad after wells\n",
    "    return potential\n",
    "\n",
    "def partition_space(N, N_w, w, b):\n",
    "    L = 10 * w + N_w * w + (N_w - 1) * b + 10 * w\n",
    "    dx = L / (N + 1)\n",
    "    x = np.linspace(dx, N * dx, N)\n",
    "    return L, dx, x\n",
    "\n",
    "def investigate_potential(N_w, n_b, c, w, V0, n, **kwargs):\n",
    "    \"\"\"\n",
    "    :include_engy_legend : whether to include labels for energy in legend\n",
    "    :clip_y_axis         : sets upper limit of y_axis to biggest wave value,\n",
    "                           so that if potential is much bigger than wave, we can \"zoom-in\"\n",
    "    \"\"\"\n",
    "    n_w = c * n_b\n",
    "    b = w / c\n",
    "    V = V_crystal(N_w, n_w, n_b, V0)\n",
    "    N = 2 * 10 * n_w + N_w * n_w + (N_w - 1) * n_b\n",
    "    L, dx, x = partition_space(N, N_w, w, b)\n",
    "    print(\"N = %d points\" % N)\n",
    "    energies, waves = get_stationary_states(dx, V)\n",
    "    \n",
    "    print(\"Greatest deviation from orthonormality:\", np.max(np.abs(waves @ waves.T - np.eye(N))))\n",
    "\n",
    "    title = \"%d lowest-energy states with %d wells, well width %.2f and well distance %.2f\" % (n, N_w, w, b)\n",
    "    plot_potential_stationary_states(x, V, energies[:n], waves[:n], title=title, **kwargs)\n",
    "    \n",
    "N = 1000\n",
    "w = 0.5 # nm\n",
    "n = 20\n",
    "V0 = 10 # eV\n",
    "investigate_potential(1, 10, 5, w, V0, n)"
   ]
  },
  {
   "cell_type": "markdown",
   "metadata": {},
   "source": [
    "Fra figuren kommer det frem at annenhver bølgefunksjon er symmetrisk og antisymmetrisk, hvilket stemmer med teori. \n",
    "Vi ser også at bølgefunksjonene for grunntilstanden, første og andre eksiterte tilstand henholdsvis har 0, 1 og 2 nullpunkter. \n",
    "De er også kontinuerlige og oppfyller randbetingelsen ved veggene, der potensialet blir uendelig stort.\n",
    "Innenfor det klassisk tillatte brønnområdet, har $n$-te eksiterte tilstand en omtrentlig bølgelengde $\\lambda_n = 2 w / (n + 1)$.\n",
    "Dette stemmer også med teori. \n",
    "\n",
    "Energiene til de bundne tilstandene er gitt analytisk ved\n",
    "$$E_n = \\frac{z^2\\hbar^2}{2 m (w/2)^2} - V_0$$\n",
    "der $z$ er reelle løsninger av likningene\n",
    "$$\\tan{z} = \\sqrt{\\frac{z_0^2}{z^2} - 1} \\quad \\text{og} \\quad \\tan{(z + \\frac{\\pi}{2})} = \\sqrt{\\frac{z_0^2}{z^2} - 1}$$\n",
    "med $z_0 = \\frac{w}{2 \\hbar} \\sqrt{2 m V_0}$.\n",
    "\n",
    "TODO: plott? i så fall her?\n",
    "\n",
    "TODO: referanse for analytiske verdier\n",
    "\n",
    "Likningene kan ikke løses analytisk.\n",
    "Vi finner energinivåene ved å lete etter løsninger $z$ på intervaller $[0, \\pi/2], [\\pi, 3\\pi/2], \\ldots$ for den første likningen, og løsninger $z$ på intervaller $[\\pi/2, \\pi], [3\\pi/2, 2\\pi], \\ldots$ for den andre likningen, for alle intervaller som ligger mellom $0$ og $z_0$."
   ]
  },
  {
   "cell_type": "code",
   "execution_count": null,
   "metadata": {
    "collapsed": false,
    "scrolled": false
   },
   "outputs": [],
   "source": [
    "def plot_analytic_solutions(steps, V_0 = V0):\n",
    "    left = []\n",
    "    right = []\n",
    "    for i in range(1,steps):\n",
    "        z = i*np.pi*4/steps\n",
    "        left.append(left_side(z))\n",
    "        right.append(right_side(z))\n",
    "        \n",
    "    for i in range(len(right)):\n",
    "        if right[i] > 9:\n",
    "            right[i] = np.nan\n",
    "                    \n",
    "    solutions = get_analytic_solutions(left, right, steps)\n",
    "    \n",
    "    xvals = [steps/8, steps/4, 3*steps/8, steps/2, 5*steps/8]\n",
    "    pifracs = ['$\\pi/2$', '$\\pi$', '$3\\pi/2$', '$2\\pi$', '$5\\pi/2$']\n",
    "        \n",
    "    plt.xticks(xvals,pifracs)\n",
    "    plt.plot(left, 'k')\n",
    "    plt.plot(right, 'k', linestyle='--')\n",
    "    plt.plot(solutions[0], solutions[1], 'bo')\n",
    "    plt.ylim(0,8)\n",
    "    plt.xlim(0,0.75*steps)\n",
    "    plt.xlabel('$k\\ell = \\ell / \\hbar \\sqrt{2m(E-V_0)}$')\n",
    "    plt.ylabel('$\\kappa \\ell$')\n",
    "    plt.show()\n",
    "    \n",
    "    print('Approximate analytic solutions for the energy levels:')\n",
    "    for i in range(len(solutions[0])):\n",
    "        print('E_', i, ': ', energy_from_x(solutions[0][i]*np.pi*4/steps), ' eV', sep='', end='')\n",
    "        print('\\tE_', i, ': ', energy_from_y(solutions[1][i], solutions[0][i]*np.pi*4/steps), ' eV', sep='')\n",
    "    \n",
    "#plot_analytic_solutions(3000)\n",
    "\n",
    "from scipy import optimize\n",
    "\n",
    "z0 = w / 2 / hbar * np.sqrt(2 * m * V0 * eV)\n",
    "def lhs1(z): return np.tan(z)\n",
    "def lhs2(z): return np.tan(z + np.pi / 2)\n",
    "def rhs(z): return np.sqrt((z0/z)**2 - 1)\n",
    "def f1(z): return lhs1(z) - rhs(z)\n",
    "def f2(z): return lhs2(z) - rhs(z)\n",
    "\n",
    "n_s = int(z0 / (np.pi / 2)) + 1\n",
    "for i in range(0, n_s):\n",
    "    a = i * np.pi / 2\n",
    "    b = a + np.pi / 2\n",
    "    x0 = (a + b) / 2\n",
    "    f = f1 if i % 2 == 0 else f2\n",
    "    z = optimize.fsolve(f, x0)[0]\n",
    "    energy = (z**2 * hbar**2 / (2 * m * (w/2)**2) - V0 * eV) / eV\n",
    "    print(\"E_%d = %.4f eV\" % (i, energy))"
   ]
  },
  {
   "cell_type": "markdown",
   "metadata": {},
   "source": [
    "Verdiene samsvarer svært godt med de beregnede verdiene for energien fra figuren over.\n",
    "\n",
    "I tillegg til de tre bølgefunksjonene i brønnen, er det tegnet inn bølgefunksjoner ovenfor brønnen.\n",
    "Disse representerer bølgefunksjoner for ubundne tilstander. \n",
    "De er altså bølgefunksjoner for frie elektroner, som har for stor kinetisk energi til å fanges av det elektriske feltet til atomkjernen.\n",
    "Et slikt elektron skal, langt unna atomet, ha en upåvirket, sinusoidal bølgefunksjon, og bølgefunksjonene er ikke-normerbare.\n",
    "Fra figuren ser vi at energinivåene til disse ubundne tilstandene ligger tett inntill hverandre. \n",
    "Dette tolkes som at energiene til de ubundne tilstandene har et kontinuerlig spektrum. \n",
    "Dette samsvarer med teori, som sier at energinivåene er kvantiserte i brønnen, og kontinuerlige utenfor. \n",
    "Dette vil si at et elektron kan ha et kontinuerlig spekter av energinivåer i tomt rom, mens energiverdiene er kvantisert til bestemte nivåer inne i brønnpotensialet.\n",
    "\n",
    "TODO Les av bølgelengden. Si litt mer om elektronet?\n",
    "Bølgelengden til elektronet leses fra grafen av til å være omkring $1 \\, nm$.\n",
    "\n",
    "Når vi betrakter potensialbrønnen som en modell for et atom, representerer bølgefunksjonene mulige tilstander atomets elektroner kan befinne seg i.\n",
    "Med tre bundne tilstander er det plass til inntil seks elektroner innenfor potensialbrønnen. \n",
    "Dette fordi pauliprinsippet utelukker muligheten for at det kan eksistere mer enn to elektroner (ett med spin opp og ett med spinn ned) i tilstander med en gitt energi.\n",
    "En slik potensialbrønn kan dermed modellere atomer med atomnummer én til og med seks (hydrogen til og med karbon), som har ett til seks elektroner i grunntilstand. \n",
    "Disse atomenes totale elektronspinn kan finnes fra pauliprinsippet: \n",
    "Dersom et atom har et partall antall elektroner (slik som i helium og karbon), vil dets totale elektronpinn i grunntilstand være null. \n",
    "Dersom det har et odde antall elektroner (f.eks. hydrogen, litium), blir spinnet $S = \\pm \\frac{\\sqrt{3}}{2} \\hbar$. \n",
    "Spinnet kan også ta andre verdier dersom elektronene eksiteres fra grunntilstand. Disse verdiene vil alle være heltallige multiplum av $\\pm \\frac{\\sqrt{3}}{2} \\hbar$."
   ]
  },
  {
   "cell_type": "markdown",
   "metadata": {},
   "source": [
    "## Modellering av toatomig molekyl\n",
    "\n",
    "For å modellere et toatomig molekyl, setter vi sammen to enkeltbrønnpotensialer fra modelleringen av enkeltatomet.\n",
    "Ved å benytte samme bredde og dybde på brønnene som i atommodellen, modellerer vi et molekyl som består av to like atomer og som vi kan sammenligne med modellen av enkeltatomet.\n",
    "De to brønnene separeres med en liten avstand $b$, som representerer bindingslengden i molekylet."
   ]
  },
  {
   "cell_type": "code",
   "execution_count": null,
   "metadata": {
    "collapsed": false
   },
   "outputs": [],
   "source": [
    "c = 8 # number of barrier widths in one well width\n",
    "investigate_potential(2, 8, c, w, V0, n)"
   ]
  },
  {
   "cell_type": "markdown",
   "metadata": {},
   "source": [
    "Vi får her dobbelt så mange stasjonære tilstander som i modellen av enkeltatomet, og dermed plass til dobbelt så mange elektroner.\n",
    "Dette stemmer godt med forventningen om at en sammensetning av to identiske enkeltbrønner burde kunne modellere et molekyl som består av to like enkeltatomer.\n",
    "\n",
    "Det er interessant å observere at grunntilstanden og 1. eksiterte tilstand har energier like under og like over grunntilstandsenergien for enkeltatomet.\n",
    "Dette resultatet kan knyttes opp mot teori om bindende og antibindende orbitaler.\n",
    "Grunntilstandsenergien i molekylet, rett under grunntilstandsenergien i atomet, har en tendens til å gi molekyler lavere energi enn den samlede energien til de frie atomene det består av.\n",
    "Siden forbindelser av lavere energi er mer stabile, har denne orbitalen en bindende effekt, og kalles derfor en *bindende orbital*.\n",
    "På tilsvarende måte har energien til den første eksiterte tilstanden i molekylet en tendens til å gi molekylet høyere energi enn atomene, da den er noe høyere enn energien i grunntilstanden til atomet.\n",
    "Denne kalles derfor en *antibindende orbital*.\n",
    "\n",
    "TODO: talleksempel med 2H -> H2 og 2He -> He2\n",
    "<!-- TODO: sammenlign kvantitativt (i hvert fall relativt mellom H og He) fra tall i Wikipedia-artikler -->\n",
    "<!-- https://en.wikipedia.org/wiki/Helium_dimer -->\n",
    "<!-- https://en.wikipedia.org/wiki/Bond-dissociation_energy -->\n",
    "<!-- https://en.wikipedia.org/wiki/Antibonding_molecular_orbital -->"
   ]
  },
  {
   "cell_type": "markdown",
   "metadata": {},
   "source": [
    "## Modellering av krystall\n",
    "En krystall kan kvalitativt modelleres ved mange brønner i et periodisk mønster. Det brukes her samme brønndybde, bredde og barriærebredde som i tidligere avsnitt. "
   ]
  },
  {
   "cell_type": "code",
   "execution_count": null,
   "metadata": {
    "collapsed": false
   },
   "outputs": [],
   "source": [
    "investigate_potential(10, 8, c, w, V0, n, clip_y_axis=True)"
   ]
  },
  {
   "cell_type": "markdown",
   "metadata": {},
   "source": [
    "### a)\n",
    "Vi plotter energinivåene og egenfunksjonene for henholdsvis $N_w = 5$ og $N_w = 10$."
   ]
  },
  {
   "cell_type": "code",
   "execution_count": null,
   "metadata": {
    "collapsed": false
   },
   "outputs": [],
   "source": [
    "num_wells = 5\n",
    "num_engy_to_show = 2 * num_wells + 1\n",
    "investigate_potential(num_wells, 8, c, w, V0, num_engy_to_show, label_energies=False, clip_y_axis=True)"
   ]
  },
  {
   "cell_type": "code",
   "execution_count": null,
   "metadata": {
    "collapsed": false
   },
   "outputs": [],
   "source": [
    "num_wells = 10\n",
    "num_engy_to_show = 2 * num_wells + 1\n",
    "investigate_potential(num_wells, 8, c, w, V0, num_engy_to_show, label_energies=False, clip_y_axis=True)"
   ]
  },
  {
   "cell_type": "markdown",
   "metadata": {},
   "source": [
    "Vi observerer at med $N_w = 5$ og $N_w = 10$ får vi henholdsvis 5 og 10 energinivåer i \"bånd\" rundt de to første energinivåene i et atom, slik to atomer fikk to bundne tilstander rundt enkeltatomets energinivåer."
   ]
  },
  {
   "cell_type": "markdown",
   "metadata": {},
   "source": [
    "### b)"
   ]
  },
  {
   "cell_type": "markdown",
   "metadata": {},
   "source": [
    "### Plot båndbredde til første 3 bånd som funksjon av antall brønner"
   ]
  },
  {
   "cell_type": "code",
   "execution_count": null,
   "metadata": {
    "collapsed": false
   },
   "outputs": [],
   "source": [
    "## Find bandwidth of three first bands as function of number of wells\n",
    "to_wells = 100 # Max number of wells to check\n",
    "n_b = 3   # Points per barrier\n",
    "n   = c * n_b  # Points per well\n",
    "dx = w / n  # Distance between each point\n",
    "\n",
    "band_widths = np.empty((3,0)) # We must have an empty list to use append\n",
    "\n",
    "print(\"Calculating band width for 1 to %d wells:\" % to_wells)\n",
    "for num in range(1, to_wells + 1):\n",
    "    V = V_crystal(num,n,n_b, V0)\n",
    "    energies, waves = get_stationary_states(dx, V)\n",
    "    bonds = energies[:3*num].reshape(-1, num)[:, [0, -1]] # Three first bonds, first and last value\n",
    "    band_widths = np.append(band_widths, np.diff(bonds), axis=1)\n",
    "    print(num, end=\"..\")"
   ]
  },
  {
   "cell_type": "code",
   "execution_count": null,
   "metadata": {
    "collapsed": false
   },
   "outputs": [],
   "source": [
    "#### Plot bandwidth\n",
    "plt.title(\"Båndbredde som funksjon av antall brønner\")\n",
    "plt.xlabel(\"Antall brønner\")\n",
    "plt.ylabel(\"Båndbredde ($eV$)\")\n",
    "\n",
    "for i, band in enumerate(band_widths):\n",
    "    plt.plot(np.arange(1,len(band) + 1), band, label=\"Bånd \" + str(i + 1))\n",
    "    plt.axhline(band[-1], linewidth=1, color=\"grey\", alpha=.8, linestyle=\"dashed\")\n",
    "    \n",
    "plt.legend(bbox_to_anchor=(0.97, 0.9))"
   ]
  },
  {
   "cell_type": "markdown",
   "metadata": {},
   "source": [
    "Vi ser av figuren at alle de tre båndene raskt konvergerer mot en fast bredde."
   ]
  },
  {
   "cell_type": "markdown",
   "metadata": {},
   "source": [
    "### c)"
   ]
  },
  {
   "cell_type": "code",
   "execution_count": null,
   "metadata": {
    "collapsed": false,
    "scrolled": false
   },
   "outputs": [],
   "source": [
    "num_wells = 10\n",
    "num_to_plot = 3 * num_wells + 1  # plot first three bands and one more energy level\n",
    "investigate_potential(num_wells, n_b, c, w, V0, num_to_plot)"
   ]
  },
  {
   "cell_type": "markdown",
   "metadata": {},
   "source": [
    "TODO: Skjekke at disse tallene også gjelder før vi leverer"
   ]
  },
  {
   "cell_type": "markdown",
   "metadata": {},
   "source": [
    "At de $4N_w$ elektronene okkuperer de $2N_w$ første orbitalene tilsvarer at de to første båndene er fyllt opp og at det tredje båndet er helt tomt. De (to) elektronene med høyest energi er derfor elektronene som befinner seg i høyeste energi i andre bånd, som vi ut fra figuren leser til å være ca. $-6 \\mathrm{eV}$.\n",
    "\n",
    "Nærmeste ledige tilstand er da første energinivå i tredje bånd, som har en verdi som vi fra figuren ser at er ca. $-3\\mathrm{eV}$. _Båndgapet_ er altså ca. $3 \\mathrm{eV}$3. Dette er på grensen mellom halvleder og isolator."
   ]
  },
  {
   "cell_type": "markdown",
   "metadata": {},
   "source": [
    "### d)\n"
   ]
  },
  {
   "cell_type": "code",
   "execution_count": null,
   "metadata": {
    "collapsed": true
   },
   "outputs": [],
   "source": [
    "investigate_potential(num_wells, n_b, c, w, V0, 3, clip_y_axis=True, label_energies=False, wave_scale_factor=10)"
   ]
  },
  {
   "cell_type": "markdown",
   "metadata": {},
   "source": [
    "Fra figuren ser man tydelig at bølgefunksjonene er modulert med både en funksjon $u$ slik at $u(x) = u(x + a)$ der $a$ er krystallens periodisitet og en $sin$-funksjon med bølgetall $k$ som er elektronets bølgetall.\n",
    "\n",
    "Legg merke til at de tre funksjonene plottet her har \"hovedbølgelengde\" lik to, en og $\\frac32$ ganger lengden av brønnområdet.\n",
    "\n",
    "TODO: Skal 3/2 brønnbredder være 1/2?\n",
    "\n",
    "## Konklusjon\n",
    "\n",
    "## Om nøyaktigheten til modellen\n",
    "\n",
    "Det er viktig å understreke at brønnmodellen er en primitiv modell for atomer, molekyler og krystaller.\n",
    "Den vil ikke gi nøyaktige eller kvantitativt korrekte tallverdier, men den lar oss belyse enkelte kvalitative egenskaper.\n",
    "Vi vil her benytte en brønn med en fast verdi for brønndybden $V_0$ til å modellere ulike atomer med ulike antall protoner i kjernen. I realiteten vil brønndybden rundt ulike atomer med forskjellige antall protoner i kjernen variere. \n",
    "Dette er et eksempel på modellens mangler.\n",
    "For at beregningene skal gi et rimelig bilde av systemet som modelleres, vil en brønnbredde på 0.1 nm benyttes, sammen med de korrekte verdiene for Plancks (reduserte) konstant og elektronmassen. Denne brønnbredden velges, da 0.1 nm er et vanlig anslag for størrelsen av et atom\n",
    "For å tvinge frem observerbare forskjeller på de ulike situasjonene og illustrere kvalitative forskjeller, er vi derimot nødt til å redusere bindingslengden mellom atomene til noe under deres realistiske verdi. Til slutt må brønndybden velges for å gi et ønsket antall bundne tilstander. Denne settes til en \"tilfeldig\" størrelse, uten andre kriterier enn at antall bundne tilstander skal bli som ønsket, og valget er ikke begrunnet i teori ut over dette.\n",
    "\n",
    "## Referanser\n",
    "\n",
    "TODO: referanser"
   ]
  }
 ],
 "metadata": {
  "kernelspec": {
   "display_name": "Python 3",
   "language": "python",
   "name": "python3"
  },
  "language_info": {
   "codemirror_mode": {
    "name": "ipython",
    "version": 3
   },
   "file_extension": ".py",
   "mimetype": "text/x-python",
   "name": "python",
   "nbconvert_exporter": "python",
   "pygments_lexer": "ipython3",
   "version": "3.5.3"
  }
 },
 "nbformat": 4,
 "nbformat_minor": 2
}
