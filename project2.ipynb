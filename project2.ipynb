{
 "cells": [
  {
   "cell_type": "code",
   "execution_count": null,
   "metadata": {
    "collapsed": false
   },
   "outputs": [],
   "source": [
    "import numpy as np\n",
    "import matplotlib.pyplot as plt\n",
    "\n",
    "hbar = 1.054571800e-34\n",
    "m = 9.10938356e-31\n",
    "L = 1\n",
    "N = 300\n",
    "dx = L / (N + 1)\n",
    "x = np.linspace(dx, N * dx, N)\n",
    "\n",
    "def V(x): return 0\n",
    "\n",
    "H = np.zeros((N, N))\n",
    "for i in range(0, N):\n",
    "    H[i][i] = hbar**2 / (m * dx**2) + V(x[i])\n",
    "for i in range(0, N - 1):\n",
    "    H[i][i+1] = -hbar**2 / (2 * m * dx**2)\n",
    "    H[i+1][i] = -hbar**2 / (2 * m * dx**2)\n",
    "    \n",
    "eigvals, eigvecs = np.linalg.eigh(H)\n",
    "print(np.linalg.norm(eigvecs[:,10]))\n",
    "\n",
    "for j in range(0, 5):\n",
    "    eigval = eigvals[j]\n",
    "    plt.plot((0, L/2), (eigval, eigval))\n",
    "    eigval = hbar**2 * ((j+1) * np.pi / L)**2 / 2 / m\n",
    "    plt.plot((L/2, L), (eigval, eigval))\n",
    "plt.show()\n",
    "\n",
    "j = 8\n",
    "y1 = eigvecs[:,j-1]\n",
    "y2 = np.sqrt(2/L) * np.sin(j*np.pi/L*x)\n",
    "plt.plot(x, y1, \"k-\")\n",
    "plt.plot(x, y2 * dx**(1/2), \"r--\")\n",
    "plt.show()\n",
    "\n",
    "print(y1[0] / y2[0], dx**(1/2), 1/dx)\n",
    "\n",
    "for i in range(0, 5):\n",
    "    for j in range(0, 5):\n",
    "        print(\"row %d (dot) row %d: %.2f\" % (i, j, np.dot(eigvecs[i,:], eigvecs[j,:])))\n",
    "        print(\"col %d (dot) col %d: %.2f\" % (i, j, np.dot(eigvecs[:,i], eigvecs[:,j])))\n"
   ]
  },
  {
   "cell_type": "code",
   "execution_count": null,
   "metadata": {
    "collapsed": false
   },
   "outputs": [],
   "source": [
    "print(1)"
   ]
  }
 ],
 "metadata": {
  "kernelspec": {
   "display_name": "Python 3",
   "language": "python",
   "name": "python3"
  },
  "language_info": {
   "codemirror_mode": {
    "name": "ipython",
    "version": 3
   },
   "file_extension": ".py",
   "mimetype": "text/x-python",
   "name": "python",
   "nbconvert_exporter": "python",
   "pygments_lexer": "ipython3",
   "version": "3.5.3"
  }
 },
 "nbformat": 4,
 "nbformat_minor": 2
}
