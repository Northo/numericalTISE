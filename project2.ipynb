{
 "cells": [
  {
   "cell_type": "markdown",
   "metadata": {},
   "source": [
    "# Endimensjonal kvantemekanisk brønnmodell for atomer, molekyler og krystaller\n",
    "\n",
    "I denne notatboken skal vi undersøke en enkel kvantemekanisk modell for atomer, molekyler og krystaller der potensialet omkring enkeltatomer modelleres med brønnpotensialer.\n",
    "\n",
    "Omkring en atomkjerne vil det være et potensiale som elektroner med masse $m_e$ kan befinne seg i.\n",
    "I vår enkle, endimensjonale modell vil vi beskrive dette potensialet som et brønnpotensial\n",
    "\n",
    "$$V(x) = \\begin{cases} -V_0 & |x| \\leq w / 2 \\\\ 0 & \\text{ellers} \\\\ \\end{cases}$$\n",
    "\n",
    "omkring et atom med bredde $w$ sentrert i origo.\n",
    "For å beskrive molekyler og atomer, konstruerer vi nye potensialer som består av like mange slike brønnpotensialer som det er atomer i molekylet eller krystallen, plassert etter hverandre og separert med områder med null potensiale og bredde $b$ som modellerer bindinger og bindingslengder i strukturen.\n",
    "\n",
    "Vi neglisjerer vekselvirkning mellom elektroner rundt atomkjernen, slik at hvert elektron befinner seg i en stasjonær tilstand $\\Psi(x, t) = \\psi(x) e^{i E t / \\hbar}$ med tilhørende energi $E$, der energiegenfunksjonen $\\psi(x)$ løser den tidsuavhengige Schrödingerligningen\n",
    "\n",
    "$$-\\frac{\\hbar^2}{2 m_e} \\psi''(x) + V(x) \\psi(x) = E \\psi(x)$$\n",
    "\n",
    "der $V(x)$ er et (annet) potensial og $\\hbar$ er Plancks konstant.\n",
    "\n",
    "Elektronet er et fermion som kan ha to spinnverdier, og Paulis eksklusjonsprinsipp forteller oss da at maksimalt to elektroner vil okkupere hver stasjonære tilstand.\n",
    "\n",
    "Schrödingerligningen har sjelden analytiske løsninger.\n",
    "Derfor vil vi her løse ligningen numerisk ved å hakke opp rommet i $N + 2$ punkter $x_0 = 0, x_1, \\ldots, x_N, x_{N+1} = L$ med avstand $\\Delta x = L / (N + 1)$ mellom hvert punkt.\n",
    "Hvert punkt tilordnes potensialet $V_n = V(x_n)$ og verdien $\\psi_n = \\psi(x_n)$ for energiegenfunksjonen.\n",
    "For å avgrense problemet, innfører vi randbetingelsene $V_0 = V_{N+1} = \\infty$, slik at $\\psi_0 = \\psi_{N+1} = 0$.\n",
    "I tillegg tilnærmer vi de deriverte av energiegenfunksjonen med\n",
    "$$\\psi_n' = \\psi'(x_n) = \\frac{\\psi_{n+1} - \\psi_n}{\\Delta x} \\qquad \\text{og} \\qquad \\psi_n'' = \\psi''(x_n) = \\frac{\\psi_n' - \\psi_{n-1}'}{\\Delta x} = \\frac{\\psi_{n+1} - 2 \\psi_n + \\psi_{n-1}}{{\\Delta x}^2}$$\n",
    "\n",
    "Problemet er dermed redusert til å finne verdier $\\psi_1, \\ldots, \\psi_N$ for energiegenfunksjonen og tilhørende energier $E$ som oppfyller\n",
    "$$-\\frac{\\hbar^2}{2 m_e} \\frac{\\psi_{n+1} - 2 \\psi_n + \\psi_{n-1}}{{\\Delta x}^2} + V_n \\psi_n = E \\psi_n$$\n",
    "Dette er ekvivalent med å finne egenvektorer $\\boldsymbol{\\psi} = [\\psi_1, \\ldots, \\psi_N]^T$ og tilhørende egenverdier $E$ som oppfyller matriseligningen\n",
    "$$H \\boldsymbol{\\psi} = E \\boldsymbol{\\psi}$$\n",
    "der matrisen $H$ er en symmetrisk matrise med $H_{n, n} = \\hbar^2 / m {\\Delta x}^2 + V_n$ langs diagonalen, $H_{n, n \\pm 1} = \\hbar^2 / 2 m {\\Delta x}^2$ over og under diagonalen og $0$ alle andre steder.\n",
    "Dette er et velkjent problem fra lineær algebra med mange effektive programvareimplementasjoner, og er utgangspunktet for vår numeriske løsningsmetode."
   ]
  },
  {
   "cell_type": "code",
   "execution_count": null,
   "metadata": {},
   "outputs": [],
   "source": [
    "%matplotlib inline\n",
    "\n",
    "import numpy as np\n",
    "import matplotlib.pyplot as plt"
   ]
  },
  {
   "cell_type": "code",
   "execution_count": null,
   "metadata": {},
   "outputs": [],
   "source": [
    "## Setup plotting parameters\n",
    "newparams = {'axes.labelsize': 15,\n",
    "             'axes.linewidth': 1,\n",
    "             'lines.linewidth': 1.5, \n",
    "             'figure.figsize': (8, 5),\n",
    "             'ytick.labelsize': 15,\n",
    "             'xtick.labelsize': 15,\n",
    "             'ytick.major.pad': 5,\n",
    "             'xtick.major.pad': 5,\n",
    "             'legend.fontsize': 15,\n",
    "             'legend.frameon': True, \n",
    "             'legend.handlelength': 1.5,\n",
    "             'axes.titlesize': 20,\n",
    "             'mathtext.fontset': 'stix',\n",
    "             'font.family': 'STIXGeneral'}\n",
    "plt.rcParams.update(newparams)"
   ]
  },
  {
   "cell_type": "code",
   "execution_count": null,
   "metadata": {
    "scrolled": false
   },
   "outputs": [],
   "source": [
    "WAVE_SCALE_FACTOR = 10 # Factor to scale wave with, so that when plotting we get\n",
    "                        # y = engy + WAVE_SCALE_FACTOR * wave\n",
    "hbar = 1.05e-25 # nJs\n",
    "m = 9.11e-31 # kg\n",
    "eV = 1.60e-19 # J\n",
    "\n",
    "try:\n",
    "    from numpy import heaviside\n",
    "    heaviside = heaviside\n",
    "except:\n",
    "    heaviside = lambda x,a: (x > 0) * 1\n",
    "\n",
    "# Some does not have scipy.linalg.eigh_tridiagonal, so this takes care of that\n",
    "# TODO: leave only one in the end\n",
    "try:\n",
    "    from scipy.linalg import eigh_tridiagonalu\n",
    "    get_eigh = lambda H: eigh_tridiagonal(np.diag(H), np.diag(H, k=1))\n",
    "except ImportError:\n",
    "    get_eigh = np.linalg.eigh\n",
    "    \n",
    "def V_crystal(x, w, b, L, V0):\n",
    "    n = (x - 10 * w) / (w + b)\n",
    "    V = np.where((x > 10 * w) & (x < L - 10 * w + b) & ((n - np.floor(n)) * (w + b) < w), -V0, 0)\n",
    "    return V\n",
    "\n",
    "def get_space_length(N_w, w, b):\n",
    "    return 10 * w + N_w * w + (N_w - 1) * b + 10 * w\n",
    "\n",
    "def partition_space(N, N_w, w, b):\n",
    "    L = get_space_length(N_w, w, b)\n",
    "    dx = L / (N + 1)\n",
    "    x = np.linspace(dx, N * dx, N)\n",
    "    return L, dx, x\n",
    "\n",
    "def get_stationary_states(dx, V):\n",
    "    factor = hbar**2 / (m * dx**2) / eV\n",
    "    diag = factor + V\n",
    "    second_diag = -factor/2 * np.ones(diag.shape[0] - 1)\n",
    "    H = np.diag(diag) + np.diag(second_diag, k=1) + np.diag(second_diag, k=-1)\n",
    "    \n",
    "    eigvals, eigvecs = get_eigh(H)\n",
    "    energies, waves = eigvals, eigvecs.T\n",
    "    return energies, waves\n",
    "\n",
    "def plot_potential(x, V, **kwargs):\n",
    "    plt.plot(x, V, color=kwargs.pop(\"potential_color\", \"grey\"),\n",
    "                linestyle=kwargs.pop(\"potential_style\", \"solid\"),\n",
    "                linewidth=kwargs.pop(\"potential_linewidth\", 3),\n",
    "                label=\"$V(x)$\")\n",
    "\n",
    "def plot_stationary_states(x, energies, waves,\n",
    "                           include_engy_legend = True,\n",
    "                           clip_y_axis = False, **kwargs):\n",
    "    wave_scale_factor = kwargs.pop(\"wave_scale_factor\", WAVE_SCALE_FACTOR) # The amplitude of waves is not really interesting, just scale so that they are visible in the plot\n",
    "    \n",
    "    for n, (energy, wave) in enumerate(zip(energies, waves)):\n",
    "        color = \"C%d\" % (n % 10)\n",
    "        label = \"$E_{%d} = %+.1f \\,\\, eV, \\psi_{%d}$\" % (n, energy, n) if include_engy_legend else None\n",
    "        plt.plot((0, x[-1]), (energy, energy), color=color, linestyle=\"dashed\", label=label)\n",
    "        \n",
    "        plt.plot(x, energy + wave * wave_scale_factor, color=color, linestyle=\"solid\")\n",
    "        \n",
    "    if clip_y_axis:\n",
    "        # Sets upper y limit to biggest wave\n",
    "        y_max = np.amax( wave_scale_factor * waves + energies[:, np.newaxis] )   \n",
    "        \n",
    "        axes = plt.gca()\n",
    "        axes.set_ylim([None, y_max + 0.1 * np.abs(y_max)])\n",
    "        \n",
    "    plt.legend()\n",
    "    \n",
    "def investigate_potential(N, N_w, w, b, n, V0,\n",
    "                          show_legend = True,\n",
    "                          return_energies = False,\n",
    "                          **kwargs):\n",
    "    \"\"\"\n",
    "    :include_engy_legend : whether to include labels for energy in legend\n",
    "    :clip_y_axis         : sets upper limit of y_axis to biggest wave value,\n",
    "                           so that if potential is much bigger than wave, we can \"zoom-in\"\n",
    "    \"\"\"\n",
    "    L, dx, x = partition_space(N, N_w, w, b)\n",
    "    V = V_crystal(x, w, b, L, V0)\n",
    "    energies, waves = get_stationary_states(dx, V)\n",
    "    \n",
    "    print(\"Greatest deviation from orthonormality:\")\n",
    "    print(np.max(np.abs(waves @ waves.T - np.eye(N))))\n",
    "\n",
    "    plt.figure(figsize=(16, 8))\n",
    "    plt.title(\"%d lowest-energy states with %d wells, well width %.2f and well distance %.2f\" % (n, N_w, w, b))\n",
    "    plt.xlabel(\"$x \\,\\, (nm)$\")\n",
    "    plt.ylabel(\"$V(x), E_n \\,\\, (eV)$\")\n",
    "    plot_potential(x, V, **kwargs)\n",
    "    plot_stationary_states(x, energies[:n], waves[:n], **kwargs) # Pass **kwargs to gain better control over plotting\n",
    "    \n",
    "    plt.legend(loc=\"upper left\")\n",
    "    \n",
    "    if return_energies:\n",
    "        return energies\n",
    "\n",
    "N = 400\n",
    "w = 0.5 # nm\n",
    "c = 8 # integer\n",
    "b = w / c # nm\n",
    "n = 6\n",
    "V0 = 10\n",
    "\n",
    "\n",
    "investigate_potential(N, 0, w, b, n, V0)\n",
    "investigate_potential(N, 1, w, b, n, V0)\n",
    "investigate_potential(N, 2, w, b, n, V0)\n",
    "investigate_potential(N, 10, w, b, n, V0, clip_y_axis = True)\n"
   ]
  },
  {
   "cell_type": "markdown",
   "metadata": {},
   "source": [
    "Koden nedenfor beregner energinivåene i en uendelig dyp potensialbrønn."
   ]
  },
  {
   "cell_type": "code",
   "execution_count": null,
   "metadata": {},
   "outputs": [],
   "source": [
    "def get_energy_level(j, width = w, mass = m):\n",
    "    return hbar**2 * j * np.pi / (width * 2 * mass * eV) \n",
    "\n",
    "for i in range(1, n):\n",
    "    print('E_', i, ' = ', f'{get_energy_level(i):.4f}', ' eV', sep='')"
   ]
  },
  {
   "cell_type": "markdown",
   "metadata": {},
   "source": [
    "# Oppgave 2\n",
    "\n",
    "### a)\n",
    "Figuren viser en potensialbrønn med fire tilhørende bølgefunksjoner. \n",
    "Brønnens dybde er her valgt slik at det finnes tre bølgefunksjoner innenfor brønnen, mens dybden er satt til $0.1 \\, nm $ -- omtrent tilsvarende et atoms radius.\n",
    "Dette for å oppnå tall av en mer naturtro størrelsesorden. \n",
    "\n",
    "Fra figuren kommer det frem at annenhver bølgeunksjon er symmetrisk og antisymmetrisk, hvilket stemmer med teori. \n",
    "Man ser også at bølgefunksjonene for grunntilstand, første og andre eksiterte tilstand henholdsvis har 0, 1 og 2 nullpunkter. \n",
    "De oppfyller også initialbetingelsene om at de skal være kontinuerlige og at de går mot null i stor avstand fra brønnen, når potensialet er null.\n",
    "\n",
    "Denne potensialfunksjonen kan modellere et atom, og bølgefunksjonene er da mulige tilstander atomets elektroner kan befinne seg i. \n",
    "Energien til disse tilstandene er gitt ved likningene \n",
    "\n",
    "$\\sqrt{ \\frac{2 m_e V_0 l^2}{\\hbar^2} - (kl)^2 } = kl \\tan{kl}$,\n",
    "\n",
    "for symmetriske, og \n",
    "\n",
    "$\\sqrt{ \\frac{2 m_e V_0 l^2}{\\hbar^2} - (kl)^2 } = kl \\tan{kl - \n",
    "\\frac{\\pi}{2}}$,\n",
    "\n",
    "for antisymmetriske energiegenfinksjoner, der\n",
    "\n",
    "$kl = \\frac{l}{\\hbar} \\sqrt{2 m_e E}$,\n",
    "\n",
    "$E_j = \\frac{\\hbar^2 k_j^2}{2m}, \\,\\, j = 1,2,\\dots,$\n",
    "\n",
    "og $E$ er energiegenverdien, og $m$ er massen til partikkelen i brønnen (som her er elektronmassen). \n",
    "\n",
    "$k_j = j \\pi / l$ er bølgetallet til egenfunksjonene, med $l$ lik brønnens bredde.\n",
    "\n",
    "For denne potensialbrønnen er disse analytiske energiegenverdiene som følger:"
   ]
  },
  {
   "cell_type": "code",
   "execution_count": null,
   "metadata": {
    "scrolled": false
   },
   "outputs": [],
   "source": [
    "def left_side(kl, V_0 = V0, l = w):\n",
    "    if ((2*m*V_0*l**2 * eV)/(hbar**2)) - kl**2 > 0:\n",
    "        return np.sqrt(((2*m*V_0*l**2 * eV)/(hbar**2)) - kl**2)\n",
    "    else:\n",
    "        return np.nan\n",
    "\n",
    "def kappa_l(kl, sym=1):\n",
    "    if sym:\n",
    "        return kl * np.tan(kl)\n",
    "    else:\n",
    "        return kl * np.tan(kl - np.pi/2)\n",
    "\n",
    "def right_side(kl, lower = 0, upper = 10, l=w):\n",
    "    if kappa_l(kl) > lower and kappa_l(kl, 0) < upper:\n",
    "        return kappa_l(kl)\n",
    "    elif kappa_l(kl, 0) > lower and kappa_l(kl, 0):\n",
    "        return kappa_l(kl, 0)\n",
    "    else:\n",
    "        return np.nan\n",
    "    \n",
    "def get_analytic_solutions(tol, left, right, steps, V_0 = V0):\n",
    "    kl = 0\n",
    "    solutions = [[], []]\n",
    "    diff = [left[i] - right[i] for i in range(len(left))]\n",
    "    for i in range(len(diff)):\n",
    "        if abs(diff[i]) < tol:\n",
    "            solutions[0].append(i)\n",
    "            solutions[1].append(right[i])\n",
    "    \n",
    "    print('Approximate analytic solutions for k*l:') \n",
    "    kl_radians = []\n",
    "    for i in range(len(solutions[0])):\n",
    "        if float(f'{solutions[0][i]*4/steps:.2f}') not in kl_radians:\n",
    "            print(f'{solutions[0][i]*4/steps:.2f}', 'pi')\n",
    "            kl_radians.append(float(f'{solutions[0][i]*4/steps:.2f}'))\n",
    "    return solutions, kl_radians\n",
    "\n",
    "def kl_to_energy(kl, l = w, V_0 = V0):\n",
    "    E = []\n",
    "    for el in kl:\n",
    "        E.append(-float(f'{(el**2 * hbar**2)/(2*m*l**2*eV):.2f}'))\n",
    "        # Something is very wrong with the energy values\n",
    "    return E\n",
    "\n",
    "def right_minus_left(kl, V_0=V0):\n",
    "    return right_side(kl) - left_side(kl)\n",
    "\n",
    "def plot_analytic_solutions(steps, V_0 = V0):\n",
    "    left = []\n",
    "    right = []\n",
    "    for i in range(0,steps):\n",
    "        kl = i*np.pi*4/steps\n",
    "        left.append(left_side(kl))\n",
    "        right.append(right_side(kl))\n",
    "        \n",
    "    for i in range(len(right)):\n",
    "        if right[i] > 9:\n",
    "            right[i] = np.nan\n",
    "                    \n",
    "    solutions, radian_solutions = get_analytic_solutions(0.01, left, right, steps)\n",
    "    \n",
    "    xvals = [steps/8, steps/4, 3*steps/8, steps/2, 5*steps/8]\n",
    "    pifracs = ['$\\pi/2$', '$\\pi$', '$3\\pi/2$', '$2\\pi$', '$5\\pi/2$']\n",
    "    \n",
    "    plt.figure(figsize=(16, 8))           \n",
    "    plt.xticks(xvals,pifracs)\n",
    "    plt.plot(left)\n",
    "    plt.plot(right)\n",
    "    plt.plot(solutions[0], solutions[1], 'ro')\n",
    "    plt.ylim(0,left[0] + 0.5)\n",
    "    plt.xlim(0,0.7*steps)\n",
    "    plt.xlabel('$k\\ell = \\ell / \\hbar \\sqrt{2mE}$')\n",
    "    plt.ylabel('$\\kappa \\ell$')\n",
    "    plt.show()\n",
    "    print('Approximate analytic solutions for the energy levels:')\n",
    "    for i in range(len(radian_solutions)):\n",
    "        print('E_', i, ': ', kl_to_energy(radian_solutions)[i], ' eV', sep='')\n",
    "    \n",
    "plot_analytic_solutions(20000)"
   ]
  },
  {
   "cell_type": "markdown",
   "metadata": {},
   "source": [
    "Det er tegnet inn en bølgefunksjon ovenfor brønnen, i tillegg til de tre i brønnen. \n",
    "Denne representerer bølgefunksjonen for et ubundet elektron (fritt elektron), som har for stor kinetisk energi til å fanges av det elektriske feltet til atomkjernen. \n",
    "Et slikt elektron skal, langt unna atomet, ha en upåvirket, sinusoidal bølgefunksjon. \n",
    "Bølgelengden til elektronet leses fra grafen av til å være omkring $1 \\, nm$.\n",
    "### TODO Les av bølgelengden. Si litt mer om elektronet?\n",
    "\n",
    "### b)\n",
    "Med tre bundne tilstander er det plass til inntil seks elektroner innenfor potensialbrønnen. \n",
    "Dette fordi Pauliprinsippet utelukker muligheten for at det kan eksistere mer enn to elektroner (ett med spin opp og ett med spinn ned) i hver bundne tilstand. \n",
    "En slik potensialbrønn kan modellere atomer av nummer én til og med seks (hydrogen til og med karbon), som har ett til seks elektroner i grunntilstand. \n",
    "Disse atomenes totale elektronspinn finnes fra Pauliprinsippet. \n",
    "Dersom et atom har et partall antall elektroner (slik som i helium og karbon), vil dets totale elektronpinn i grunntilstand være null. \n",
    "Dersom det har et odde antall elektroner (f.eks. hydrogen, litium), blir spinnet $S = \\pm \\frac{\\sqrt{3}}{2} \\hbar$. \n",
    "I eksiterte tilstander kan spinnet også ta andre verdier, alle heltallige multiplum av $\\pm \\frac{\\sqrt{3}}{2} \\hbar$."
   ]
  },
  {
   "cell_type": "markdown",
   "metadata": {},
   "source": [
    "# Oppgave 3\n",
    "\n",
    "Dobbel potensialbrønn, hver med samme dybde og lengde som i oppgave 2.\n",
    "Kan modellere et molekyl.\n",
    "Får dobbelt så mange bundne stasjonære tilstander som i oppgave 2, dvs. totalt 6.\n",
    "\n",
    "Ser av figuren at to separate H-atomer til sammen har energien $2 \\cdot (-179.0 \\, eV) = -358.0 \\, eV$ i grunntilstanden.\n",
    "Et H2-molekyl har energien $2 \\cdot (-179.6 \\, eV) = -359.2 \\, eV$ i grunntilstanden.\n",
    "H2-molekylet har dermed en bindingsenergi $(-359.2 \\, eV) - (-358.0 \\, eV) = -1.2 \\, eV$ relativt de separate H-atomene.\n",
    "Den negative differansen indikerer at H2-molekylet er mer stabilt enn de separate H-atomene, noe som stemmer med erfaring.\n",
    "\n",
    "To separate He-atomer har til sammen energien $2 \\cdot 2 \\cdot (-179 \\, eV) = -716.0 \\, eV$.\n",
    "Et He2-molekyl har energien $2 \\cdot (-179.6 \\, eV) + 2 \\cdot (-175.5 \\, eV) = -710.2 \\, eV$.\n",
    "He2-molekylet har dermed en bindingsenergi $(-710.2 \\, eV) - (-716.0 \\, eV) = + 5.8 \\, eV$ relativt de separate He-atomene.\n",
    "Den positive differansen indikerer at He2-molekylet er mindre stabilt enn de separate He-atomene, noe som stemmer med erfaring, da He er en edelgass.\n",
    "\n",
    "Disse resultatene kan knyttes opp mot teori om bindende og antibindende orbitaler.\n",
    "I H2-molekylet okkuperer begge elektronene en energitilstand med noe lavere energi enn grunntilstanden for et H-atom.\n",
    "En slik energitilstand gjør molekylet mer stabilt enn de separate atomene, og kalles derfor en bindende orbital.\n",
    "I He2-molekylet okkuperer to av elektronene en energitilstand med noe lavere energi enn grunntilstanden for et He-atom, og to av elektronene en energitilstand med noe høyere energi enn grunntilstanden for et He-atom.\n",
    "Til sammen får molekylet en høyere energi enn de separate atomene og er derfor minst stabilt, og den høyeste energitilstanden av de to i molekylet kalles derfor en antibindende orbital, på grunn av denne effekten.\n",
    "\n",
    "<!-- TODO: sammenlign kvantitativt (i hvert fall relativt mellom H og He) fra tall i Wikipedia-artikler -->\n",
    "<!-- https://en.wikipedia.org/wiki/Helium_dimer -->\n",
    "<!-- https://en.wikipedia.org/wiki/Bond-dissociation_energy -->\n",
    "<!-- https://en.wikipedia.org/wiki/Antibonding_molecular_orbital -->"
   ]
  },
  {
   "cell_type": "markdown",
   "metadata": {},
   "source": [
    "# Om nøyaktigheten til modellen\n",
    "\n",
    "Det er viktig å understreke at brønnmodellen er en primitiv modell for atomer, molekyler og krystaller.\n",
    "Den vil ikke gi nøyaktige eller kvantitativt korrekte tallverdier, men den lar oss belyse enkelte kvalitative egenskaper.\n",
    "For eksempel vil vi her benytte en brønn med en fast verdi for brønndybden $V_0$ til å modellere ulike atomer med ulike antall protoner i kjernen, selv om brønndybden rundt ulike atomer med forskjellige antall protoner i kjernen i realiteten vil variere.\n",
    "For å ha et rimelig bilde av situasjonene vi modellerer, vil vi regne med korrekte verdier for Plancks (reduserte) konstant og elektronmassen og en rimelig verdi for brønnbredden, som i denne modellen tilsvarer atombredden på omtrent 0.1 nm.\n",
    "For å tvinge frem observerbare forskjeller på de ulike situasjonene og illustrere kvalitative forskjeller, er vi derimot nødt til å redusere bindingslengden mellom atomer noe under dens realistiske verdi, og til slutt brønndybden til å gi et ønsket antall bundne tilstander."
   ]
  },
  {
   "cell_type": "markdown",
   "metadata": {},
   "source": [
    "# Oppgave 4 - Krystaller"
   ]
  },
  {
   "cell_type": "markdown",
   "metadata": {},
   "source": [
    "## a)\n",
    "Vi plotter energinivåene og egenfunksjonene for henholdsvis $N_w = 5$ og $N_w = 10$."
   ]
  },
  {
   "cell_type": "code",
   "execution_count": null,
   "metadata": {},
   "outputs": [],
   "source": [
    "# Find atomic energies\n",
    "L, dx, x = partition_space(N, 1, w, b)\n",
    "V = V_crystal(x, w, b, L, V0)\n",
    "energies, waves = get_stationary_states(dx, V)\n",
    "\n",
    "# Investigate\n",
    "num_wells = 5\n",
    "num_engy_to_show = 2 * num_wells + 1\n",
    "investigate_potential(N, num_wells, w, b, num_engy_to_show, V0,\n",
    "                      include_engy_legend = False,\n",
    "                      clip_y_axis = True,\n",
    "                      potential_style = \"dashed\",\n",
    "                      potential_width = 2)\n",
    "\n",
    "num_wells = 10\n",
    "num_engy_to_show = 2 * num_wells + 1\n",
    "investigate_potential(N, num_wells, w, b, num_engy_to_show, V0,\n",
    "                      include_engy_legend = False,\n",
    "                      clip_y_axis = True,\n",
    "                      potential_style = \"dashed\",\n",
    "                      potential_width = 2)"
   ]
  },
  {
   "cell_type": "markdown",
   "metadata": {},
   "source": [
    "Vi observerer at med $N_w = 5$ og $N_w = 10$ får vi henholdsvis 5 og 10 energinivåer i \"bånd\" rundt de to første energinivåene i et atom, slik to atomer fikk to bundne tilstander rundt enkeltatomets energinivåer."
   ]
  },
  {
   "cell_type": "markdown",
   "metadata": {},
   "source": [
    "## b)\n",
    "Når vi skal beregne båndbredden for krystaller av et stort antall atomer observerer vi at det blir numeriske feil. Disse manifesterer seg ved at båndbredde som funksjon av antall brønner blir lite glatt. For å unngå dette benytter vi her en annen metode for å generere potensialet.\n",
    "\n",
    "Feilen med forrige potensialfunksjon kommer av at det er avrunding som bestemmer om et punkt på $x$-aksen er i en brønn eller på en barriære. Dette har mye å si når bredden på en barriære er få punkter.\n",
    "\n",
    "Den nye metoden for å generere potensialet, `V_crystal_2`, tar et annet utgangspunkt enn forrige metode. I stedenfor å partisjonere $x$-intervallet i $N$ punkter, for så å finne ut hvilken verdi potensialet har i hvert punkt, tar den nye metoden utgangspunkt i at hver brønn og barriære er et gitt antall punkter bred."
   ]
  },
  {
   "cell_type": "code",
   "execution_count": null,
   "metadata": {},
   "outputs": [],
   "source": [
    "def V_crystal_2(N_w, n, n_b, V0):\n",
    "    \"\"\"Generate potential with N_w wells using\n",
    "    n as points in a well and n_b as points in a barrier\n",
    "    \n",
    "    Input\n",
    "    :N_w  : number of wells\n",
    "    :n    : points in a well\n",
    "    :n_b  : points in a barrier\n",
    "    :V0   : depth of well\n",
    "    \n",
    "    Output\n",
    "    :potential : a list of points, with length \n",
    "                 N = 2 * 10 * n + N_w * (n + n_b)\n",
    "    \"\"\"\n",
    "    \n",
    "    well = np.append(-V0*np.ones(n), np.zeros(n_b)) # One well plus barrier\n",
    "    wells = np.tile(well, N_w)\n",
    "    potential = np.append(np.zeros(10*n), wells) # Pad 10w before wells\n",
    "    potential = np.append(potential, np.zeros(10*n - n_b)) # Pad after wells\n",
    "    return potential\n",
    "    "
   ]
  },
  {
   "cell_type": "code",
   "execution_count": null,
   "metadata": {},
   "outputs": [],
   "source": [
    "# Set up some useful values\n",
    "n_b = 3   # Points per barrier\n",
    "n   = c * (n_b - 1) + 1  # Points per well\n",
    "dx = b / (n_b - 1)  # Distance between each point"
   ]
  },
  {
   "cell_type": "markdown",
   "metadata": {},
   "source": [
    "### Plot båndbredde til første 3 bånd som funksjon av antall brønner"
   ]
  },
  {
   "cell_type": "code",
   "execution_count": null,
   "metadata": {},
   "outputs": [],
   "source": [
    "## Find bandwidth of three first bands as function of number of wells\n",
    "to_wells = 100 # Max number of wells to check\n",
    "\n",
    "band_widths = np.empty((3,0)) # We must have an empty list to use append\n",
    "\n",
    "for num in range(1, to_wells + 1):\n",
    "    V = V_crystal_2(num,n,n_b, V0)\n",
    "    energies, waves = get_stationary_states(dx, V)\n",
    "    bonds = energies[:3*num].reshape(-1, num)[:, [0, -1]] # Three first bonds, first and last value\n",
    "    band_widths = np.append(band_widths, np.diff(bonds), axis=1)"
   ]
  },
  {
   "cell_type": "code",
   "execution_count": null,
   "metadata": {},
   "outputs": [],
   "source": [
    "## Plot bandwidth\n",
    "plt.title(\"Båndbredde som funksjon av antall brønner\")\n",
    "plt.xlabel(\"Antall brønner\")\n",
    "plt.ylabel(\"Båndbredde ($eV$)\")\n",
    "\n",
    "for i, band in enumerate(band_widths):\n",
    "    plt.plot(np.arange(1,len(band) + 1), band, label=\"Bånd \" + str(i + 1))\n",
    "    plt.axhline(band[-1], linewidth=1, color=\"grey\", alpha=.8, linestyle=\"dashed\")\n",
    "    \n",
    "plt.legend(bbox_to_anchor=(0.97, 0.9))"
   ]
  },
  {
   "cell_type": "markdown",
   "metadata": {},
   "source": [
    "Vi ser av figuren at alle de tre båndene raskt konvergerer mot en fast bredde."
   ]
  },
  {
   "cell_type": "markdown",
   "metadata": {},
   "source": [
    "## c)"
   ]
  },
  {
   "cell_type": "code",
   "execution_count": null,
   "metadata": {},
   "outputs": [],
   "source": [
    "## Plot the first three bonds with num_wells wellso\n",
    "num_wells = 10\n",
    "num_to_plot = 3 * num_wells + 1  # Number of energies to plot.\n",
    "                                 # Since each band consists of num_wells energies,\n",
    "                                 # this gives the first three bands plus one energy level\n",
    "        \n",
    "# Find length of entire system\n",
    "# TODO : calculate length of barrier explicitly, and rewrite this line\n",
    "L = get_space_length(num_wells, w, b)\n",
    "\n",
    "V = V_crystal_2(num_wells, n, n_b, V0)\n",
    "energies, waves = get_stationary_states(dx, V)\n",
    "\n",
    "x = np.linspace(0, L, len(V)) # Generate some points to use as x-axis\n",
    "\n",
    "plot_potential(x, V)\n",
    "plot_stationary_states(x, energies[:num_to_plot], waves[:num_to_plot], wave_scale_factor = 10,\n",
    "                                                                       include_engy_legend = False)"
   ]
  },
  {
   "cell_type": "markdown",
   "metadata": {},
   "source": [
    "# Todo: Skjekke at disse tallene også gjelder før vi leverer"
   ]
  },
  {
   "cell_type": "markdown",
   "metadata": {},
   "source": [
    "At de $4N_w$ elektronene okkuperer de $2N_w$ første orbitalene tilsvarer at de to første båndene er fyllt opp og at det tredje båndet er helt tomt. De (to) elektronene med høyest energi er derfor elektronene som befinner seg i høyeste energi i andre bånd, som vi ut fra figuren leser til å være ca. $-6 \\mathrm{eV}$.\n",
    "\n",
    "Nærmeste ledige tilstand er da første energinivå i tredje bånd, som har en verdi som vi fra figuren ser at er ca. $-3\\mathrm{eV}$. _Båndgapet_ er altså ca. $3 \\mathrm{eV}$3. Dette er på grensen mellom halvleder og isolator."
   ]
  },
  {
   "cell_type": "markdown",
   "metadata": {},
   "source": [
    "## d)\n"
   ]
  },
  {
   "cell_type": "code",
   "execution_count": null,
   "metadata": {},
   "outputs": [],
   "source": [
    "plot_potential(x, V, potential_linewidth = 1)\n",
    "plot_stationary_states(x, energies[:3], waves[:3], wave_scale_factor = 10,\n",
    "                                                             include_engy_legend = False,\n",
    "                                                             clip_y_axis = True)"
   ]
  },
  {
   "cell_type": "markdown",
   "metadata": {},
   "source": [
    "Fra figuren ser man tydelig at bølgefunksjonene er modulert med både en funksjon $u$ slik at $u(x) = u(x + a)$ der $a$ er krystallens periodisitet og en $sin$-funksjon med bølgetall $k$ som er elektronets bølgetall.\n",
    "\n",
    "Legg merke til at de tre funksjonene plottet her har \"hovedbølgelengde\" lik to, en og $\\frac32$ ganger lengden av brønnområdet."
   ]
  },
  {
   "cell_type": "code",
   "execution_count": null,
   "metadata": {},
   "outputs": [],
   "source": []
  }
 ],
 "metadata": {
  "kernelspec": {
   "display_name": "Python 3",
   "language": "python",
   "name": "python3"
  },
  "language_info": {
   "codemirror_mode": {
    "name": "ipython",
    "version": 3
   },
   "file_extension": ".py",
   "mimetype": "text/x-python",
   "name": "python",
   "nbconvert_exporter": "python",
   "pygments_lexer": "ipython3",
   "version": "3.6.7"
  }
 },
 "nbformat": 4,
 "nbformat_minor": 2
}
